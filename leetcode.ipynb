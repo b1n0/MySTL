{
 "cells": [
  {
   "cell_type": "code",
   "execution_count": 21,
   "metadata": {},
   "outputs": [],
   "source": [
    "def bin_search(arr, x, l = None, r = None):\n",
    "    if r is None: r =  len(arr) - 1\n",
    "    if l is None: l = 0\n",
    "    while l < r:\n",
    "        mid = (l+r)//2\n",
    "        if arr[mid] == x: return mid\n",
    "        elif arr[mid] > x: r = mid\n",
    "        else : l = mid + 1\n",
    "    return l if arr[l] == x else -1"
   ]
  },
  {
   "cell_type": "code",
   "execution_count": 22,
   "metadata": {},
   "outputs": [
    {
     "data": {
      "text/plain": [
       "[0, 2]"
      ]
     },
     "execution_count": 22,
     "metadata": {},
     "output_type": "execute_result"
    }
   ],
   "source": [
    "def searchRange(arr, target):\n",
    "    i = bin_search(arr, target)\n",
    "    if i == -1: return [-1, -1]\n",
    "    l,r = 0, i\n",
    "    while l < r:\n",
    "        mid = (l+r)//2\n",
    "        if arr[mid] < target: l = mid + 1\n",
    "        else: r = mid\n",
    "    left = l\n",
    "    l, r = i, len(arr)-1\n",
    "    while l < r:\n",
    "        mid = (l+r)//2\n",
    "        if arr[mid] <= target: l = mid + 1\n",
    "        else: r = mid\n",
    "    right = l if arr[l] == target else l-1\n",
    "    return [left, right]\n",
    "\n",
    "searchRange([0,0,0,1,1,1,2,2,2],0)"
   ]
  },
  {
   "cell_type": "code",
   "execution_count": 25,
   "metadata": {},
   "outputs": [
    {
     "data": {
      "text/plain": [
       "2"
      ]
     },
     "execution_count": 25,
     "metadata": {},
     "output_type": "execute_result"
    }
   ],
   "source": [
    "def findDuplicate(self, nums):\n",
    "    # Find the intersection point of the two runners.\n",
    "    tortoise = nums[0]\n",
    "    hare = nums[0]\n",
    "    while True:\n",
    "        tortoise = nums[tortoise]\n",
    "        hare = nums[nums[hare]]\n",
    "        if tortoise == hare:\n",
    "            break\n",
    "        \n",
    "    # Find the \"entrance\" to the cycle.\n",
    "    ptr1 = nums[0]\n",
    "    ptr2 = tortoise\n",
    "    while ptr1 != ptr2:\n",
    "        ptr1 = nums[ptr1]\n",
    "        ptr2 = nums[ptr2]\n",
    "        \n",
    "    return ptr1\n",
    "\n",
    "FindDublicate([3,1,3,4,2])"
   ]
  },
  {
   "cell_type": "code",
   "execution_count": 75,
   "metadata": {},
   "outputs": [
    {
     "data": {
      "text/plain": [
       "2"
      ]
     },
     "execution_count": 75,
     "metadata": {},
     "output_type": "execute_result"
    }
   ],
   "source": [
    "#_____GOVNIWE_______\n",
    "def search_in_rotated(arr, target, l = None, r = None):\n",
    "    \n",
    "    if r is None: r = len(arr) - 1\n",
    "    if l is None: l = 0\n",
    "    n = r - l + 1 \n",
    "    if n <= 2:\n",
    "        return arr.index(target) if target in arr else -1\n",
    "    mid = (l+r)//2\n",
    "    if arr[mid] == target: return mid\n",
    "    if arr[mid] >= arr[l]:\n",
    "        if target >= arr[l] and target < arr[mid]:\n",
    "            return bin_search(arr, target, l, mid)\n",
    "        return search_in_rotated(arr, target, l = mid, r = r)\n",
    "    else :\n",
    "        if target > arr[mid] and target <= arr[r]:\n",
    "            return bin_search(arr, target, mid, r)\n",
    "        else:\n",
    "            return search_in_rotated(arr, target, l = l, r = mid)\n",
    "        \n",
    "search_in_rotated([4,5,6,7,0,1,2], 6)"
   ]
  },
  {
   "cell_type": "code",
   "execution_count": 126,
   "metadata": {},
   "outputs": [
    {
     "data": {
      "text/plain": [
       "1"
      ]
     },
     "execution_count": 126,
     "metadata": {},
     "output_type": "execute_result"
    }
   ],
   "source": [
    "def minimum_in_rotated(arr, l = None, r = None):\n",
    "    if l is None: l = 0; \n",
    "    if r is None: r = len(arr) - 1\n",
    "    n = r - l + 1\n",
    "    if n >=0 and n <= 2: return min(arr)\n",
    "    if arr[0] < arr[-1]: return arr[0]\n",
    "    while r - l > 1:\n",
    "        mid = (l+r)//2\n",
    "        if arr[mid] > arr[l]:\n",
    "            l = mid\n",
    "        else:\n",
    "            r = mid\n",
    "    return min(arr[l:r+1])\n",
    "\n",
    "minimum_in_rotated([5,6,7,8,9,1,2,3,4])"
   ]
  },
  {
   "cell_type": "code",
   "execution_count": 144,
   "metadata": {},
   "outputs": [
    {
     "data": {
      "text/plain": [
       "{'', 'A', 'AB', 'B', 'BA'}"
      ]
     },
     "execution_count": 144,
     "metadata": {},
     "output_type": "execute_result"
    }
   ],
   "source": [
    "# _____Brilliant_______\n",
    "def numTilePossibilities(tiles):\n",
    "    res = {''}\n",
    "    for c in tiles:\n",
    "        res |= {d[:i] + c + d[i:] for d in res for i in range(len(d) + 1)}\n",
    "    #return len(res) - 1\n",
    "    return res\n",
    "\n",
    "numTilePossibilities('AB')"
   ]
  },
  {
   "cell_type": "code",
   "execution_count": 48,
   "metadata": {},
   "outputs": [
    {
     "data": {
      "text/plain": [
       "'wwwww'"
      ]
     },
     "execution_count": 48,
     "metadata": {},
     "output_type": "execute_result"
    }
   ],
   "source": [
    "#_______NORM_______\n",
    "def PallindromicSubstring(s):\n",
    "    n = len(s)\n",
    "    if not n: return ''\n",
    "    m = [[False]*n for i in range(n)]\n",
    "    \n",
    "    for i in range(n): m[i][i] = True\n",
    "\n",
    "    Max = 1; p = 0\n",
    "    \n",
    "    for i in range(n-1):\n",
    "        if s[i] == s[i+1]: m[i][i+1] = True; Max = 2; p = i\n",
    "            \n",
    "    for k in range(2, n):\n",
    "        for i in range(n-k):\n",
    "            j = i + k\n",
    "            if m[i+1][j-1] and s[i] == s[j]:\n",
    "                m[i][j] = True\n",
    "                if k+1 > Max: p = i; Max = k+1                \n",
    "    return s[p: p + Max]\n",
    "\n",
    "PallindromicSubstring('wewwwww')"
   ]
  },
  {
   "cell_type": "code",
   "execution_count": null,
   "metadata": {},
   "outputs": [],
   "source": []
  },
  {
   "cell_type": "code",
   "execution_count": null,
   "metadata": {},
   "outputs": [],
   "source": []
  },
  {
   "cell_type": "code",
   "execution_count": 142,
   "metadata": {},
   "outputs": [],
   "source": []
  },
  {
   "cell_type": "code",
   "execution_count": null,
   "metadata": {},
   "outputs": [],
   "source": []
  },
  {
   "cell_type": "code",
   "execution_count": null,
   "metadata": {},
   "outputs": [],
   "source": []
  }
 ],
 "metadata": {
  "kernelspec": {
   "display_name": "Python 3",
   "language": "python",
   "name": "python3"
  },
  "language_info": {
   "codemirror_mode": {
    "name": "ipython",
    "version": 3
   },
   "file_extension": ".py",
   "mimetype": "text/x-python",
   "name": "python",
   "nbconvert_exporter": "python",
   "pygments_lexer": "ipython3",
   "version": "3.6.4"
  }
 },
 "nbformat": 4,
 "nbformat_minor": 2
}
