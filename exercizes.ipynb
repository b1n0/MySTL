{
 "cells": [
  {
   "cell_type": "code",
   "execution_count": 14,
   "metadata": {},
   "outputs": [
    {
     "data": {
      "text/plain": [
       "11"
      ]
     },
     "execution_count": 14,
     "metadata": {},
     "output_type": "execute_result"
    }
   ],
   "source": [
    "def max_section_sum(l):\n",
    "    m = max(l)\n",
    "    if max(l)<=0: return m\n",
    "    \n",
    "    s = 0; m = 0\n",
    "    for i in l:\n",
    "        if i >= 0: \n",
    "            s+=i\n",
    "            if s > m: m = s  \n",
    "        else:\n",
    "            if s+i < 0: s = 0\n",
    "            else : s += i\n",
    "    return m\n",
    "\n",
    "max_section_sum([1,2,3,-10,10,1,-1,-15,1])"
   ]
  },
  {
   "cell_type": "code",
   "execution_count": 107,
   "metadata": {},
   "outputs": [],
   "source": [
    "def binary_search(a, x, lo=0, hi=None):\n",
    "    if hi is None:\n",
    "        hi = len(a)\n",
    "    while lo < hi:\n",
    "        mid = (lo+hi)//2\n",
    "        midval = a[mid]\n",
    "        if midval < x:\n",
    "            lo = mid+1\n",
    "        elif midval > x: \n",
    "            hi = mid\n",
    "        else:\n",
    "            return mid\n",
    "    return hi\n",
    "\n",
    "#binary_search([1,2,3,4], 4)\n",
    "def dist(a,b): return max(a-b, b-a)\n",
    "def findClosestElements(arr, k, x):\n",
    "    n = len(arr)\n",
    "    ind = binary_search(arr, x)\n",
    "    if ind >= n: ind = n-1\n",
    "    i = 1; j = 1; res = [arr[ind]]\n",
    "    while i+j-2 < k-1:\n",
    "        if ind + i < n: \n",
    "            d1 = dist(x, arr[ind+i])\n",
    "        else: d1 = -1    \n",
    "        if ind - j >= 0: \n",
    "            d2 = dist(x, arr[ind-j])\n",
    "        else: d2 = -1\n",
    "        if d1==-1: \n",
    "            res.append(arr[ind-j]); j+=1\n",
    "        elif d2 == -1: \n",
    "            res.append(arr[ind+i]); i+=1\n",
    "        else:\n",
    "            if d1 < d2:\n",
    "                res.append(arr[ind+i]); i += 1\n",
    "            else: \n",
    "                res.append(arr[ind-j]); j += 1\n",
    "    return res"
   ]
  },
  {
   "cell_type": "code",
   "execution_count": 114,
   "metadata": {},
   "outputs": [
    {
     "data": {
      "text/plain": [
       "[4, 4.5]"
      ]
     },
     "execution_count": 114,
     "metadata": {},
     "output_type": "execute_result"
    }
   ],
   "source": [
    "findClosestElements([2,2,3,3,4,4.5,5], 2, 4)"
   ]
  },
  {
   "cell_type": "code",
   "execution_count": 109,
   "metadata": {},
   "outputs": [],
   "source": [
    "def is_polindrom(s):\n",
    "    n = len(s)\n",
    "    if n in [0,1]: return True\n",
    "    d = {}\n",
    "    s = s.lower()\n",
    "    for i in s:\n",
    "        if i in d:\n",
    "            d[i] +=1\n",
    "        else: d[i] = 1\n",
    "    m = len(list(filter(lambda x: x%2==1, [i for i in d.values()])))\n",
    "    if n%2==0 and m!=0: return False\n",
    "    if n%2==1 and m!=1: return False\n",
    "    return True"
   ]
  },
  {
   "cell_type": "code",
   "execution_count": 41,
   "metadata": {},
   "outputs": [
    {
     "data": {
      "text/plain": [
       "[1, 6, 2, 3, 3]"
      ]
     },
     "execution_count": 41,
     "metadata": {},
     "output_type": "execute_result"
    }
   ],
   "source": [
    "def remainder_sort(l, rem=5): \n",
    "    n = len(l)\n",
    "    if n == 0 or n ==1 : return l\n",
    "    j = 0\n",
    "    for r in range(rem):\n",
    "        while j < n and l[j]%rem == r: j+=1\n",
    "        i = j+1\n",
    "        while i < n:\n",
    "            if l[i]%rem == r:\n",
    "                tmp = l[i]; l[i] = l[j]; l[j] = tmp\n",
    "                while j < n and l[j]%rem == r: j+=1\n",
    "            i+=1    \n",
    "    return l\n",
    "remainder_sort([3,2,3,1,6])"
   ]
  },
  {
   "cell_type": "code",
   "execution_count": 15,
   "metadata": {
    "scrolled": true
   },
   "outputs": [
    {
     "data": {
      "text/plain": [
       "2"
      ]
     },
     "execution_count": 15,
     "metadata": {},
     "output_type": "execute_result"
    }
   ],
   "source": [
    "def merge(a,b):\n",
    "    an = len(a); bn = len(b)\n",
    "    if an == 0: return b\n",
    "    if bn == 0: return a\n",
    "    i = 0; j = 0; res = []\n",
    "    \n",
    "    while i < an and j < bn:\n",
    "        if a[i] < b[j]: res.append(a[i]); i+=1\n",
    "        else : res.append(-1*b[j]); j+=1\n",
    "            \n",
    "    while i < an: res.append(a[i]); i+=1\n",
    "    while j < bn: res.append(-1*b[j]); j+=1\n",
    "        \n",
    "    return res\n",
    "\n",
    "def nesting_index(a,b):\n",
    "    a.sort(); b.sort()\n",
    "    l = merge(a,b)\n",
    "    if len(l) == 0: return -1\n",
    "    k=0; m = 0\n",
    "    for i in l:\n",
    "        if i > 0: \n",
    "            k+=1 \n",
    "            if k > m: m = k\n",
    "        else : k-=1\n",
    "    return m\n",
    "\n",
    "nesting_index([1,3,5],[2,6,6])"
   ]
  },
  {
   "cell_type": "code",
   "execution_count": 16,
   "metadata": {},
   "outputs": [
    {
     "data": {
      "text/plain": [
       "1"
      ]
     },
     "execution_count": 16,
     "metadata": {},
     "output_type": "execute_result"
    }
   ],
   "source": [
    "def find_celebrity(m):\n",
    "    n = len(m)\n",
    "    if n == 0: return -1\n",
    "    k = 0\n",
    "    for i in range(n):\n",
    "        if m[k][i] != 0 and k!=i:\n",
    "            k = i;\n",
    "    if sum(m[k]) == 1 and sum([m[i][k] for i in range(n)]) == n:\n",
    "        return k\n",
    "    return -1\n",
    "\n",
    "find_celebrity([[1,1,1],[0,1,0],[0,1,1]])"
   ]
  },
  {
   "cell_type": "code",
   "execution_count": 10,
   "metadata": {},
   "outputs": [],
   "source": [
    "def maximalRectangle(matrix):\n",
    "    m = len(matrix); n = len(matrix[0])\n",
    "    a = [ [[[False]*n for j in range(m)]]*n for i in range(m) ]\n",
    "    smax = 0\n",
    "    for i in range(m):\n",
    "        for j in range(n):\n",
    "            k = i; kmax = m; lmax = n;\n",
    "            while k < kmax:\n",
    "                l = j;\n",
    "                while l < lmax:\n",
    "                    if matrix[k][l]:\n",
    "                        if l==j and k==i:\n",
    "                            a[i][j][k][l] = True\n",
    "                        elif l == j:\n",
    "                            if a[i][j][k-1][l]: a[i][j][k][l] = True\n",
    "                        elif k == i:\n",
    "                            if a[i][j][k][l-1]: a[i][j][k][l] = True\n",
    "                        else:\n",
    "                            if a[i][j][k-1][l] and a[i][j][k][l-1]:\n",
    "                                a[i][j][k][l] = True\n",
    "                    if not a[i][j][k][l]:\n",
    "                        lmax = min(l, lmax)\n",
    "                        if l == j: kmax = k\n",
    "                    else : \n",
    "                        smax = max(smax, (k-i+1)*(l-j+1))\n",
    "                    l+=1\n",
    "                k+=1\n",
    "    return smax"
   ]
  },
  {
   "cell_type": "code",
   "execution_count": 22,
   "metadata": {},
   "outputs": [
    {
     "data": {
      "text/plain": [
       "6"
      ]
     },
     "execution_count": 22,
     "metadata": {},
     "output_type": "execute_result"
    }
   ],
   "source": [
    "maximalRectangle([[1,0,1,0,0],[1,0,1,1,1],[1,1,1,1,1],[1,0,0,1,0]])"
   ]
  },
  {
   "cell_type": "code",
   "execution_count": 18,
   "metadata": {},
   "outputs": [
    {
     "data": {
      "text/plain": [
       "['first', '', 'fourth']"
      ]
     },
     "execution_count": 18,
     "metadata": {},
     "output_type": "execute_result"
    }
   ],
   "source": [
    "def f(text, first, second):\n",
    "    n = len(text)\n",
    "    n1 = len(first); n2 = len(second)\n",
    "    if n == 0 or n1==n2==0: return []\n",
    "    i = 0; res = []\n",
    "    while i < n and i != -1:\n",
    "        i = text.find(first + ' ' + second + ' ', i)\n",
    "        if i != -1:\n",
    "            j = 0; s = ''\n",
    "            while i+n1+n2+2+j < n and text[i+n1+n2+2+j] not in [' ','\\n']:\n",
    "                s += text[i+n1+n2+j+2]; j+=1\n",
    "            res.append(s)\n",
    "            i = i+n1+n2+1\n",
    "    return res\n",
    "f('first second first second  first second fourth','first','second')"
   ]
  },
  {
   "cell_type": "code",
   "execution_count": 54,
   "metadata": {},
   "outputs": [
    {
     "data": {
      "text/plain": [
       "'cde'"
      ]
     },
     "execution_count": 54,
     "metadata": {},
     "output_type": "execute_result"
    }
   ],
   "source": [
    "def smallestSubsequence(text):\n",
    "    n = len(text)\n",
    "    if n == 0 or n == 1 : return t\n",
    "    res = []; k = 0\n",
    "    for i in range(n):\n",
    "        if text[i] not in res: \n",
    "            res.append(text[i])\n",
    "            k+=1\n",
    "        else:\n",
    "            j = res.index(text[i])\n",
    "            if res[k-1] != text[i] and ord(res[j+1]) < ord(text[i]):\n",
    "                res.pop(j); res.append(text[i])\n",
    "    s1 = ''.join(res)\n",
    "    \n",
    "    res=[]; k = 0\n",
    "    \n",
    "    for i in range(n-1, -1, -1):\n",
    "        if text[i] not in res: \n",
    "            res.append(text[i])\n",
    "            k+=1\n",
    "        else:\n",
    "            j = res.index(text[i])\n",
    "            if res[k-1] != text[i] and ord(res[j+1]) > ord(text[i]):\n",
    "                res.pop(j); res.append(text[i])\n",
    "    res.reverse()\n",
    "    s2 = ''.join(res)\n",
    "    return s1 if s1 < s2 else s2 \n",
    "smallestSubsequence('ddeeeccdce')"
   ]
  },
  {
   "cell_type": "code",
   "execution_count": 8,
   "metadata": {},
   "outputs": [
    {
     "data": {
      "text/plain": [
       "'cde'"
      ]
     },
     "execution_count": 8,
     "metadata": {},
     "output_type": "execute_result"
    }
   ],
   "source": [
    "#_____TOP_____________________\n",
    "from collections import Counter\n",
    "def smallestSubsequence(text):\n",
    "    letters  = Counter(text)\n",
    "    used = {letter : False for letter in text}\n",
    "    stack = []\n",
    "    for s in text:\n",
    "        letters[s] -= 1\n",
    "        if used[s] == True: continue\n",
    "        while stack and ord(s) < ord(stack[-1]) and letters[stack[-1]]>0:\n",
    "            used[stack[-1]] = False\n",
    "            stack.pop()\n",
    "        stack.append(s)\n",
    "        used[s] = True\n",
    "    return ''.join(stack)\n",
    "\n",
    "smallestSubsequence('ddeeeccdce')            "
   ]
  },
  {
   "cell_type": "code",
   "execution_count": 31,
   "metadata": {},
   "outputs": [
    {
     "data": {
      "text/plain": [
       "{('A',), ('A', 'B'), ('B',), ('B', 'A')}"
      ]
     },
     "execution_count": 31,
     "metadata": {},
     "output_type": "execute_result"
    }
   ],
   "source": [
    "import itertools\n",
    "def numTilePossibilities(S):\n",
    "    return ({s[:i] for s in itertools.permutations(S) for i in range(1, 8)})\n",
    "numTilePossibilities('AB')\n"
   ]
  },
  {
   "cell_type": "code",
   "execution_count": 51,
   "metadata": {},
   "outputs": [],
   "source": [
    "def isPossible(nums):\n",
    "    n = len(nums)\n",
    "    if n < 3: return False\n",
    "    lens = [1]; l = [nums[0]]; j = 0\n",
    "    for i in nums[1:]: \n",
    "        if i > l[-1] + 1:\n",
    "            l.append(i); lens.append(1)\n",
    "        elif i == l[-1] + 1: l[-1] = i; lens[-1] += 1; j = len(l) - 2;\n",
    "        elif i == l[-1]:\n",
    "            if j >= 0 and l[j] == i-1: l[j] += 1; lens[j]+=1; j -= 1\n",
    "            else: j = len(l)-1; l.append(i); lens.append(1)\n",
    "    print(lens)\n",
    "    return len(list(filter(lambda x: x < 3, lens))) == 0"
   ]
  },
  {
   "cell_type": "code",
   "execution_count": 52,
   "metadata": {},
   "outputs": [
    {
     "name": "stdout",
     "output_type": "stream",
     "text": [
      "[5, 3]\n"
     ]
    },
    {
     "data": {
      "text/plain": [
       "True"
      ]
     },
     "execution_count": 52,
     "metadata": {},
     "output_type": "execute_result"
    }
   ],
   "source": [
    "isPossible([1,2,3,3,4,4,5,5])"
   ]
  },
  {
   "cell_type": "code",
   "execution_count": null,
   "metadata": {},
   "outputs": [],
   "source": []
  },
  {
   "cell_type": "code",
   "execution_count": null,
   "metadata": {},
   "outputs": [],
   "source": []
  },
  {
   "cell_type": "code",
   "execution_count": null,
   "metadata": {},
   "outputs": [],
   "source": []
  }
 ],
 "metadata": {
  "kernelspec": {
   "display_name": "Python 3",
   "language": "python",
   "name": "python3"
  },
  "language_info": {
   "codemirror_mode": {
    "name": "ipython",
    "version": 3
   },
   "file_extension": ".py",
   "mimetype": "text/x-python",
   "name": "python",
   "nbconvert_exporter": "python",
   "pygments_lexer": "ipython3",
   "version": "3.6.4"
  }
 },
 "nbformat": 4,
 "nbformat_minor": 2
}
